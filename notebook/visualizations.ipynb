{
 "cells": [
  {
   "cell_type": "markdown",
   "id": "5f270409",
   "metadata": {},
   "source": [
    "Set up"
   ]
  },
  {
   "cell_type": "code",
   "execution_count": null,
   "id": "2d4be8cc",
   "metadata": {
    "vscode": {
     "languageId": "plaintext"
    }
   },
   "outputs": [],
   "source": [
    "import pandas as pd\n",
    "import numpy as np \n",
    "import matplotlib.pyplot as plt \n",
    "\n",
    "from src.diagnostic_agent import build_joint_probability, inference_by_enumeration"
   ]
  },
  {
   "cell_type": "markdown",
   "id": "1d4e41bc",
   "metadata": {},
   "source": [
    "Load Data and Build Models"
   ]
  },
  {
   "cell_type": "code",
   "execution_count": null,
   "id": "f507ba46",
   "metadata": {
    "vscode": {
     "languageId": "plaintext"
    }
   },
   "outputs": [],
   "source": [
    "df = pd.read_csv(\"data/normalized_health_data.csv\")\n",
    "arr = df[[\"Symptom1\",\"Symptom2\",\"Symptom3\",\"Symptom4\",\"Condition\"]].values\n",
    "\n",
    "# Without smoothing\n",
    "joint_ns = build_joint_probability(arr, alpha=0)\n",
    "post_ns = inference_by_enumeration(joint_ns, [1,-1,-1,1,-2])\n",
    "\n",
    "# With smoothing\n",
    "joint_s  = build_joint_probability(arr, alpha=1.0)\n",
    "post_s   = inference_by_enumeration(joint_s, [1,-1,-1,1,-2])\n"
   ]
  },
  {
   "cell_type": "markdown",
   "id": "07a5aac6",
   "metadata": {},
   "source": [
    "Plot Posterior Comparison"
   ]
  },
  {
   "cell_type": "code",
   "execution_count": null,
   "id": "f152ca05",
   "metadata": {
    "vscode": {
     "languageId": "plaintext"
    }
   },
   "outputs": [],
   "source": [
    "labels = [f\"C{i}\" for i in range(len(post_ns))]\n",
    "x = np.arange(len(labels))\n",
    "\n",
    "plt.figure(figsize=(10,5))\n",
    "plt.bar(x - 0.2, post_ns, width=0.4, label=\"No Smoothing\")\n",
    "plt.bar(x + 0.2, post_s,  width=0.4, label=\"Laplace α=1\")\n",
    "plt.xticks(x, labels, rotation=45)\n",
    "plt.ylabel(\"P(Condition | S1=1, S4=1)\")\n",
    "plt.legend()\n",
    "plt.title(\"Effect of Laplace Smoothing on Posterior\")\n",
    "plt.tight_layout()\n",
    "plt.show()\n"
   ]
  },
  {
   "cell_type": "markdown",
   "id": "1d2e4136",
   "metadata": {},
   "source": [
    "Marginals Visualization"
   ]
  },
  {
   "cell_type": "code",
   "execution_count": null,
   "id": "9fd3bc79",
   "metadata": {
    "vscode": {
     "languageId": "plaintext"
    }
   },
   "outputs": [],
   "source": [
    "# Compute marginals\n",
    "from src.analyze_marginals import compute_all_marginals\n",
    "marg = compute_all_marginals(joint_ns)\n",
    "\n",
    "fig, axes = plt.subplots(1, 5, figsize=(20,4))\n",
    "for ax, (name, dist) in zip(axes, marg.items()):\n",
    "    ax.bar(range(len(dist)), dist)\n",
    "    ax.set_title(name)\n",
    "    ax.set_xticks(range(len(dist)))\n",
    "plt.suptitle(\"Marginal Distributions (α=0)\")\n",
    "plt.tight_layout()\n",
    "plt.show()\n"
   ]
  }
 ],
 "metadata": {
  "language_info": {
   "name": "python"
  }
 },
 "nbformat": 4,
 "nbformat_minor": 5
}
